{
 "cells": [
  {
   "cell_type": "code",
   "execution_count": 3,
   "metadata": {
    "collapsed": true
   },
   "outputs": [],
   "source": [
    "import pymongo\n",
    "from pymongo import MongoClient\n",
    "import sys\n",
    "import xml.etree.ElementTree as ET\n",
    "from io import StringIO\n",
    "import lxml\n",
    "from lxml import etree"
   ]
  },
  {
   "cell_type": "code",
   "execution_count": 4,
   "metadata": {},
   "outputs": [],
   "source": [
    "f = \"dblp-2017-08-24.xml\"\n",
    "dtd = etree.DTD(file='dblp.dtd')#read DTD\n",
    "parser = etree.XMLParser(load_dtd=True, no_network=True)\n",
    "valid = etree.parse(f, parser=parser)\n",
    "root = valid.getroot()"
   ]
  },
  {
   "cell_type": "code",
   "execution_count": 6,
   "metadata": {},
   "outputs": [],
   "source": [
    "all_art = []\n",
    "for elem in root.findall(\"article\"):\n",
    "    doc = {}\n",
    "    a_author = [elem.findall(\"author\")[j].text for j in range(len(elem.findall(\"author\")))]\n",
    "    a_key = elem.get('key')\n",
    "    if elem.find('title') is None:\n",
    "        a_title = 'null'\n",
    "    else:\n",
    "        a_title = elem.find('title').text\n",
    "    if elem.find('year') is None:\n",
    "        a_year = 'null'\n",
    "    else:\n",
    "        a_year = elem.find('year').text\n",
    "    if elem.find('journal') is None:\n",
    "        a_journal='null'\n",
    "    else:\n",
    "        a_journal= elem.find('journal').text\n",
    "    doc['key'] = a_key\n",
    "    doc['author'] = a_author\n",
    "    doc['title'] = a_title\n",
    "    doc['year'] = a_year\n",
    "    doc['journal'] = a_journal\n",
    "    all_art.append(doc)connect = MongoClient('localhost', 27017)"
   ]
  },
  {
   "cell_type": "code",
   "execution_count": null,
   "metadata": {
    "collapsed": true
   },
   "outputs": [],
   "source": [
    "con1 = connect['dblp']['article']\n",
    "for i in range(17):\n",
    "    a = 0 + i * 100000\n",
    "    b = 100000 + i * 100000\n",
    "    if b > len(all_art):\n",
    "        b = len(all_art)+1\n",
    "    con1.insert_many(all_art[a:b])"
   ]
  },
  {
   "cell_type": "code",
   "execution_count": 10,
   "metadata": {},
   "outputs": [],
   "source": [
    "all_inp = []\n",
    "for elem in root.findall(\"inproceedings\"):\n",
    "    doc = {}\n",
    "    i_author = [elem.findall(\"author\")[j].text for j in range(len(elem.findall(\"author\")))]\n",
    "    i_key = elem.get(\"key\")\n",
    "    i_title = elem.find('title').text\n",
    "    i_year= elem.find('year').text\n",
    "    i_booktitle=elem.find('booktitle').text\n",
    "    doc['key'] = i_key\n",
    "    doc['author'] = i_author\n",
    "    doc['title'] = i_title\n",
    "    doc['year'] = i_year\n",
    "    doc['booktitle'] = i_booktitle\n",
    "    all_inp.append(doc)"
   ]
  },
  {
   "cell_type": "code",
   "execution_count": 14,
   "metadata": {
    "collapsed": true
   },
   "outputs": [],
   "source": [
    "con2 = connect['dblp']['inproceedings']\n",
    "for i in range(21):\n",
    "    a = 0 + i * 100000\n",
    "    b = 100000 + i * 100000\n",
    "    if b > len(all_inp):\n",
    "        b = len(all_inp)+1\n",
    "    con2.insert_many(all_inp[a:b])"
   ]
  },
  {
   "cell_type": "markdown",
   "metadata": {},
   "source": [
    "The Schema for article is \n",
    "   article(_id, author,journal,key,title,year)\n",
    "   \n",
    "An example is \n",
    "  {'_id': ObjectId('5a126b65a786de628793b049'),\n",
    "  'author': ['Chua-Huang Huang', 'Christian Lengauer'],\n",
    "  'journal': 'Acta Inf.',\n",
    "  'key': 'journals/acta/HuangL87',\n",
    "  'title': 'The Derivation of Systolic Implementations of Programs.',\n",
    "  'year': '1987'},"
   ]
  },
  {
   "cell_type": "markdown",
   "metadata": {},
   "source": [
    "The schema for inproceedings is \n",
    "    inproceedings(_id, author,booktitle,key,title,year)\n",
    "    \n",
    "An example is\n",
    "  {'_id': ObjectId('5a126c3fa786de6287ad6979'),\n",
    "  'author': ['Hélène Kirchner'],\n",
    "  'booktitle': 'Constraint Programming',\n",
    "  'key': 'journals/lncs/Kirchner94',\n",
    "  'title': 'On the Use of Constraints in Automated Deduction',\n",
    "  'year': '1994'},"
   ]
  }
 ],
 "metadata": {
  "kernelspec": {
   "display_name": "Python 3",
   "language": "python",
   "name": "python3"
  },
  "language_info": {
   "codemirror_mode": {
    "name": "ipython",
    "version": 3
   },
   "file_extension": ".py",
   "mimetype": "text/x-python",
   "name": "python",
   "nbconvert_exporter": "python",
   "pygments_lexer": "ipython3",
   "version": "3.6.1"
  }
 },
 "nbformat": 4,
 "nbformat_minor": 2
}
